{
 "metadata": {
  "name": "Untitled0"
 },
 "nbformat": 3,
 "nbformat_minor": 0,
 "worksheets": [
  {
   "cells": [
    {
     "cell_type": "code",
     "collapsed": false,
     "input": [
      "%pylab inline\n",
      "import numpy as np\n",
      "import pylab as pl"
     ],
     "language": "python",
     "metadata": {},
     "outputs": [
      {
       "output_type": "stream",
       "stream": "stdout",
       "text": [
        "\n",
        "Welcome to pylab, a matplotlib-based Python environment [backend: module://IPython.kernel.zmq.pylab.backend_inline].\n",
        "For more information, type 'help(pylab)'.\n"
       ]
      }
     ],
     "prompt_number": 1
    },
    {
     "cell_type": "code",
     "collapsed": false,
     "input": [
      "import json\n",
      "\n",
      "with open('benchmark_results.json') as f:\n",
      "    data = json.load(f)"
     ],
     "language": "python",
     "metadata": {},
     "outputs": [],
     "prompt_number": 3
    },
    {
     "cell_type": "code",
     "collapsed": false,
     "input": [
      "groups = data['benchmark_results']"
     ],
     "language": "python",
     "metadata": {},
     "outputs": [],
     "prompt_number": 5
    },
    {
     "cell_type": "code",
     "collapsed": false,
     "input": [
      "pairwise_records = [g for g in groups if g['group_name'] == 'pairwise'][0]['records']"
     ],
     "language": "python",
     "metadata": {},
     "outputs": [],
     "prompt_number": 10
    },
    {
     "cell_type": "code",
     "collapsed": false,
     "input": [
      "def ranked_timings(benchmark_results):\n",
      "    results = \n",
      "    for group in bench_mark_results:\n",
      "        "
     ],
     "language": "python",
     "metadata": {},
     "outputs": [
      {
       "metadata": {},
       "output_type": "pyout",
       "prompt_number": 11,
       "text": [
        "[{u'all_times': [[0.015053033828735352,\n",
        "    0.013917922973632812,\n",
        "    0.01432490348815918]],\n",
        "  u'cold_time': None,\n",
        "  u'name': u'pairwise_cython_for_loops',\n",
        "  u'source_url': u'https://github.com/numfocus/python-benchmarks/tree/master/pairwise/pairwise_cython.pyx',\n",
        "  u'warm_time': 0.013917922973632812},\n",
        " {u'all_times': [[0.2467179298400879,\n",
        "    0.018653154373168945,\n",
        "    0.013357877731323242]],\n",
        "  u'cold_time': 0.2467179298400879,\n",
        "  u'name': u'pairwise_numba_nested_for_loops',\n",
        "  u'source_url': u'https://github.com/numfocus/python-benchmarks/tree/master/pairwise/pairwise_numba.py',\n",
        "  u'warm_time': 0.013357877731323242},\n",
        " {u'all_times': [[0.130079984664917,\n",
        "    0.014778852462768555,\n",
        "    0.014599084854125977]],\n",
        "  u'cold_time': 0.130079984664917,\n",
        "  u'name': u'pairwise_parakeet_nested_for_loops',\n",
        "  u'source_url': u'https://github.com/numfocus/python-benchmarks/tree/master/pairwise/pairwise_parakeet.py',\n",
        "  u'warm_time': 0.014599084854125977},\n",
        " {u'all_times': [[0.1647200584411621,\n",
        "    0.015092134475708008,\n",
        "    0.014966964721679688]],\n",
        "  u'cold_time': 0.1647200584411621,\n",
        "  u'name': u'pairwise_parakeet_inner_broadcasting',\n",
        "  u'source_url': u'https://github.com/numfocus/python-benchmarks/tree/master/pairwise/pairwise_parakeet.py',\n",
        "  u'warm_time': 0.014966964721679688},\n",
        " {u'all_times': [26.912620067596436],\n",
        "  u'cold_time': None,\n",
        "  u'name': u'pairwise_python_nested_for_loops',\n",
        "  u'source_url': u'https://github.com/numfocus/python-benchmarks/tree/master/pairwise/pairwise_python.py',\n",
        "  u'warm_time': 26.912620067596436},\n",
        " {u'all_times': [2.070117950439453],\n",
        "  u'cold_time': None,\n",
        "  u'name': u'pairwise_python_inner_broadcasting',\n",
        "  u'source_url': u'https://github.com/numfocus/python-benchmarks/tree/master/pairwise/pairwise_python.py',\n",
        "  u'warm_time': 2.070117950439453},\n",
        " {u'all_times': [[0.015893936157226562,\n",
        "    0.016338825225830078,\n",
        "    0.027148962020874023]],\n",
        "  u'cold_time': None,\n",
        "  u'name': u'pairwise_pythran_nested_for_loops',\n",
        "  u'source_url': u'https://github.com/numfocus/python-benchmarks/tree/master/pairwise/pairwise_pythran.py',\n",
        "  u'warm_time': 0.015893936157226562}]"
       ]
      }
     ],
     "prompt_number": 11
    }
   ],
   "metadata": {}
  }
 ]
}